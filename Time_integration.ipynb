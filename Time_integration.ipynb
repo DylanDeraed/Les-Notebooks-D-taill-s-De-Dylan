{
 "cells": [
  {
   "cell_type": "markdown",
   "metadata": {},
   "source": [
    "# Time integration Study Session"
   ]
  },
  {
   "cell_type": "code",
   "execution_count": 20,
   "metadata": {},
   "outputs": [],
   "source": [
    "#Libraries\n",
    "import numpy as np # Used to do some math\n",
    "from scipy.integrate import odeint # Used to solve directly ODE\n",
    "import matplotlib.pyplot as plt # Used to plot graph"
   ]
  },
  {
   "cell_type": "markdown",
   "metadata": {},
   "source": [
    "## Part 1 : Forward and Backward Euler method\n"
   ]
  },
  {
   "cell_type": "markdown",
   "metadata": {},
   "source": [
    "As a remainder, Forward and Backward Euler method let us solve ordinary differential equation. They have both their specificities that I will not\n",
    "discuss here (see chapter 2 on time integration). Two things thougt, Forward/Explicit Euler method is easier but not stable for any time step and Backward/Implicit Euler method is harder but more stable. I will also try to show that here.  "
   ]
  },
  {
   "cell_type": "markdown",
   "metadata": {},
   "source": [
    "### Exo 1"
   ]
  },
  {
   "cell_type": "markdown",
   "metadata": {},
   "source": [
    "Find approximate solution to the initial value problem,\n",
    "\n",
    "$\\displaystyle \\frac{dy}{dt} = -3y + 7e^{4t},\\quad y(0)=2$,\n",
    "\n",
    "on the interval $0 \\le t \\le 1$ using **explicit** and **implicit Euler methods**.\n",
    "\n",
    "Compare approximate solutions with exact solution given by\n",
    "\n",
    "$\\displaystyle y(t)=e^{4t} + e^{-3t}$.\n",
    "\n",
    "Show graphically that both explicit and implicit Euler methods are first-order accurate for a finite time interval."
   ]
  },
  {
   "cell_type": "markdown",
   "metadata": {},
   "source": [
    "Forward Euler:\n",
    "\n",
    "$y^{n+1} = y^n + (-3y^n + 7e^{4t^n})dt$\n",
    "\n",
    "Backward Euler:\n",
    "\n",
    "$y^{n+1} = y^n + (-3y^{n+1} + 7e^{4t^{n+1}})dt$\n",
    "\n",
    "or\n",
    "\n",
    "$y^{n+1}(1 + 3dt) = y^n + 7e^{4t^{n+1}}dt$"
   ]
  },
  {
   "cell_type": "code",
   "execution_count": 2,
   "metadata": {},
   "outputs": [
    {
     "data": {
      "text/plain": [
       "\"\\nFor 'nt' we use int() wich will transforme our value inside the braket into an integer.\\nFor exemple : int(1.2) = 1\\n\""
      ]
     },
     "execution_count": 2,
     "metadata": {},
     "output_type": "execute_result"
    }
   ],
   "source": [
    "# Initialise our parameters\n",
    "ti = 0.0 # Initial time condition\n",
    "tf = 1.0 # Final time condition\n",
    "yi = 2.0 # Initial position condition\n",
    "dt = 0.1 # Size of a time step\n",
    "nt = int((tf-ti)/dt) # Number of time step to go from 'ti' to 'tf' with a size 'dt' \n",
    "\n",
    "'''\n",
    "For 'nt' we use int() wich will transforme our value inside the braket into an integer.\n",
    "For exemple : int(1.2) = 1\n",
    "'''"
   ]
  },
  {
   "cell_type": "code",
   "execution_count": 3,
   "metadata": {},
   "outputs": [],
   "source": [
    "# Creatin our containers to store our solutions\n",
    "\n",
    "#------------------Forward---------------------\n",
    "y_forward = np.empty(nt+1) # Create an empty array of size nt + 1\n",
    "y_forward[0] = yi # Set up the first element of the list 'y_forward' to be the initial condition\n",
    "\n",
    "'''\n",
    "Here We've created a numpy array to store de solution of our equation at each time step. The size of this array is the number of time step plus one\n",
    "to include the initial condition. We've used np.empty(x) wich create an empty array of size 'x'. Then we've setted up the first element of the list to be the \n",
    "initial condition.\n",
    "remark : we could use a python list instead of a numpy array but it is faster to do operation with numpy.\n",
    "'''\n",
    "\n",
    "t = np.arange(nt+1) * dt # Create the time array\n",
    "\n",
    "'''\n",
    "We've used np.arange(x) to create the time variable. np.arange(x) create an numpy array of size 'x' that look like this : [0,1,2,3,...,x].\n",
    "So here, with np.arange(nt+1), we've created an array that take values from 0 to nt + 1. \n",
    "'''\n",
    "\n",
    "for i in range(nt): # For loop to get the solution at each time\n",
    "    y_forward[i+1] = y_forward[i] + (-3 * y_forward[i] + 7 * np.exp(4 * t[i])) * dt # Compute the Forward Euler Scheme for my ODE\n",
    "\n",
    "'''\n",
    "Here we've compute the forward Euler scheme. We've used a for loop that take an argument ('i') that goes from 0 to nt. For each argument we get the\n",
    "solution of y for next step using the value for the current one that we have compute before.\n",
    "\n",
    "When i = 0, we have :\n",
    "y_forward[1] = y_forward[0] + (-3 * y_forward[0] + 7 * np.exp(4 * t[0])) * dt\n",
    "So we have found the value of y at the first time step, meaning at t = ti + 1 * dt = 0.1. \n",
    "To find this value we needed the value at the 0th time step, meaning at t = ti + 0 * dt = ti. But this value is the initial condition yi = 2.\n",
    "\n",
    "When i = 1, we have :\n",
    "y_forward[2] = y_forward[1] + (-3 * y_forward[1] + 7 * np.exp(4 * t[1])) * dt\n",
    "So we have found the value of y at the second time step, meaning at t = ti + 2 * dt = 0.2. \n",
    "To find this value we needed the value at the first time step, meaning at t = ti + 1 * dt. But this value has been compute at the previous loop.\n",
    "This is the value we found above at i = 1\n",
    "\n",
    "Etc for each value of 'i' until i = nt where we found the value at nt + 1 wich is tf. \n",
    "\n",
    "At each loop we've stored the solution to the numpy array. So we have at the end an array of size nt + 1 and each value is the solution at the corresponding\n",
    "time step.\n",
    "So y_forward[0] is the initial condition, y_forward[1] is the solution at t = 0.1, ..., y_forward[nt + 1] is the solution at tf.\n",
    "\n",
    "'''\n",
    "\n",
    "#-----------------Backward---------------------\n",
    "y_backward = np.empty(nt+1) # Create an empty array of size nt + 1\n",
    "y_backward[0] = yi # Set up the first element of the list 'y_forward' to be the initial condition\n",
    "\n",
    "'''\n",
    "For the Backward Euler method, we've done the same as above with the Forward Euler method but the algorithm we've computed is different. All the \n",
    "python is the same so we will not go into details again.\n",
    "Remark : We have already define 't' so we will not doing it again but you also need 't' for Backward Euler method. If you are doing an exercise using\n",
    "only Backward Euler don't forget it.\n",
    "'''\n",
    "\n",
    "mult = 1 + 3 * dt # define a coefficient that we will use. just do that to not copy it every time\n",
    "for i in range(nt): # For loop to get the solution at each time\n",
    "    y_backward[i + 1] = y_backward[i] / mult + dt * 7 * np.exp(4 * t[i + 1]) / mult # Compute the Backward Euler Scheme for my ODE"
   ]
  },
  {
   "cell_type": "code",
   "execution_count": 4,
   "metadata": {},
   "outputs": [
    {
     "data": {
      "text/plain": [
       "\"\\nodeint is a function of the Scipy library that solve ODE. Scipy is a library that contain a lot of algorithm to solve problem numericaly using \\npython (ODE, integration, Eigenvalue problem, ...). The function odeint solve ODE, it is based on FORTRAN library odepack wich is really fast and \\npowerfull.\\nIt takes multiple parameters as arguments : the function you want to integrate to solve the ODE, the initiale condition, the time at wich we want to solve y\\nand other secondary parameters like 'full_output' that return 'info' wich give us acces to additional information like the order or else.\\nodeint return an array containing the solution of the ODE at each time 't', here called 'y_odeint'.  \\n\""
      ]
     },
     "execution_count": 4,
     "metadata": {},
     "output_type": "execute_result"
    }
   ],
   "source": [
    "# Solve the ODE with the function odeint of scipy library\n",
    "def func(y, t): # define the right hand side of my function\n",
    "    RHS = -3 * y + 7 * np.exp(4 * t)\n",
    "    return RHS\n",
    "\n",
    "'''\n",
    "Here we want to use the function odeint of Scipy library to solve my ODE. To do that odeint need as a parameter the rigth hand side (RHS) of my \n",
    "function. So we are computing the RHS using python definition.\n",
    "'''\n",
    "\n",
    "y_odeint, info = odeint(func, yi, t, full_output=True)\n",
    "\n",
    "'''\n",
    "odeint is a function of the Scipy library that solve ODE. Scipy is a library that contain a lot of algorithm to solve problem numericaly using \n",
    "python (ODE, integration, Eigenvalue problem, ...). The function odeint solve ODE, it is based on FORTRAN library odepack wich is really fast and \n",
    "powerfull.\n",
    "It takes multiple parameters as arguments : the function you want to integrate to solve the ODE, the initiale condition, the time at wich we want to solve y\n",
    "and other secondary parameters like 'full_output' that return 'info' wich give us acces to additional information like the order or else.\n",
    "odeint return an array containing the solution of the ODE at each time 't', here called 'y_odeint'.  \n",
    "'''"
   ]
  },
  {
   "cell_type": "code",
   "execution_count": 5,
   "metadata": {},
   "outputs": [
    {
     "data": {
      "text/plain": [
       "\"\\nWe' ve computed the exact solution to compare it with Forward Euler method, Backward Euler method and odeint.\\n\""
      ]
     },
     "execution_count": 5,
     "metadata": {},
     "output_type": "execute_result"
    }
   ],
   "source": [
    "# Compute the exact solution\n",
    "y_exact = np.exp(4 * t) + np.exp(-3 * t) \n",
    "\n",
    "'''\n",
    "We' ve computed the exact solution to compare it with Forward Euler method, Backward Euler method and odeint.\n",
    "'''"
   ]
  },
  {
   "cell_type": "code",
   "execution_count": 6,
   "metadata": {},
   "outputs": [
    {
     "data": {
      "text/plain": [
       "'\\nRemark : if you want information about matplotlib, go check the library documentation or the previous notebook about Taylor expansion.\\n'"
      ]
     },
     "execution_count": 6,
     "metadata": {},
     "output_type": "execute_result"
    },
    {
     "data": {
      "image/png": "[encoded data removed]",
      "text/plain": [
       "<Figure size 700x600 with 1 Axes>"
      ]
     },
     "metadata": {},
     "output_type": "display_data"
    }
   ],
   "source": [
    "# Plot everything\n",
    "fig, ax = plt.subplots(1, 1, figsize=(7, 6))\n",
    "\n",
    "ax.plot(t, y_exact, '*', label=\"Exact solution\")\n",
    "ax.plot(t, y_forward, label=\"Forward Euler\")\n",
    "ax.plot(t, y_backward, label=\"Backward Euler\")\n",
    "ax.plot(t, y_odeint, label=\"SciPy\")\n",
    "\n",
    "ax.set_xlabel(\"$t$\", fontsize=18)\n",
    "ax.set_ylabel(\"$y(t)$\", fontsize=18)\n",
    "\n",
    "ax.legend()\n",
    "\n",
    "'''\n",
    "Remark : if you want information about matplotlib, go check the library documentation or the previous notebook about Taylor expansion.\n",
    "'''"
   ]
  },
  {
   "cell_type": "markdown",
   "metadata": {},
   "source": [
    "We will now show that the two Euler method are first order accurate."
   ]
  },
  {
   "cell_type": "code",
   "execution_count": 7,
   "metadata": {},
   "outputs": [
    {
     "data": {
      "text/plain": [
       "'\\nHere we\\'ve computed the algorithm to find the final solution of my ODE for different size of time step for Forward and Backward Euler methods.\\nTo do that we use a for loop with \"in enumerate(x)\". This take one argument, a list and give back two things that we usualy call count and value. \\nBefore we try to understand the loop above let\\'s look at an exemple of \"in enumerate(x)\" :\\n\\n---------------------------------Exemple--------------------------------------\\nx = [1,2,3,4] # Create a list \\n\\nfor count, value in enumerate(x): # Our for loop\\n    print(count, value)\\n\\nThis will give us :\\n0 1\\n1 2\\n2 2\\n3 4\\n\\nThe first values (the column) are the \\'count\\' values and they tell us the number of iteration in our for loop. Then the second values (the second column)\\nare the \\'value\\' values that are the value inside de list \\'x\\'. \\nSo at the first iteration of our for loop : \\ncount = 0 because it is the first iteration (first mean 0 in python) and value = x[0] which here is 1. That is why when we print(count, value)\\nwe obtained 0 1.\\nAt the second iteration of our loop :\\ncount = 1 and value = x[1] = 2 \\netc\\n-------------------------------------------------------------------------------\\n\\nNow back to our loop above. Here \\'j\\' is \\'count\\', \\'dt\\' is \\'value\\' and \\'x\\' is \\'dts\\'. \\nSo in our first iteration:\\nj = 0 and dt = dts[0]\\nin my second :\\nj = 1 and dt = dts[1]\\netc\\n\\nThen inside our for loop with \"in enumerate\", we have another for loop using in range that we\\'ve already seen before.\\n\\nLet\\'s try to understand the complete for loop for Euler forward (this is the same for Euler backward) :\\nAt the first iteration of our first for loop (the one with enumerate):\\n\\nj = 0 and dt = dts[0]\\nT = 0\\nWe enter the second for loop : for i in range(ns[0])\\ninside this loop we will compute Euler forward for \\'i\\' going from 0 t \\'ns[0]\\'\\nthen at the end we do : T += dt \\nwhich is the same as : T = T + dt\\nIn our first iteration, it gives us : T = 0 + dts[0]\\n\\nend of the first iteration and begining of the second one.\\nIt goes until we\\'ve reached the end of the \\'dts\\' list. \\n'"
      ]
     },
     "execution_count": 7,
     "metadata": {},
     "output_type": "execute_result"
    }
   ],
   "source": [
    "#Initialize our parameters \n",
    "ns = 4**np.arange(0,5)*10 #creating different number of time step\n",
    "dts = (tf - ti) / ns # For each number of time step, computing the size of the time step\n",
    "\n",
    "'''\n",
    "If we want to show that Euler methods are first order accurate, we need to compute the solution of our ODE using different size of time step. To do that\n",
    "I create different number of time step ('ns') using np.arange(). Note that I put the np.arange() as an exponential of 4, this does not matter. It is a good idea\n",
    "to use a exponential form for 'ns' because to compare the accuracy we are gonna use log scale when we will plot all of that. That is why I've done that.\n",
    "\n",
    "Then after I've been defining 'ns', I can compute the size of the time step 'dts' for each number of time step 'ns'.\n",
    "'''\n",
    "\n",
    "y_exact_final = np.exp(4 * tf) + np.exp(-3 * tf) # Computing my exact solution at tf\n",
    "y_forward_final = np.ones(ns.shape) * 2 # Creating containers for all final solution for each dts using Euler Forward \n",
    "y_backward_final = np.ones(ns.shape) * 2 # Creating containers for all final solution for each dts using Euler Backward\n",
    "\n",
    "'''\n",
    "Here we've computed the exact solution at the final time 'tf' so we can compare it with the ones from Euler methods. we've created containers to store\n",
    "the final solution for each size of the time step 'dts' when we use Euler Forward and Backward. To create the containers we've used np.ones(x), it\n",
    "creates an array of one of size 'x' ([1,1,1,...,1]). Here the size of our array of ones is ns.shape, which give us the shape of an array. For example,\n",
    "if we have a matrix, matrix.shape will give us (#rows, #columns). Here we have a 1 dimensional array 'ns' so ns.shape give us the number of element\n",
    "in ns which is 5.\n",
    "Then we multiply our array of ones of size ns.shape by 2 which is our initial condition. So in the general case we have a code like this :\n",
    "y_forward/backward_final = np.ones(ns.shape) * yi\n",
    "This is an array like this [yi,yi,yi,...,yi] of size ns.shape.\n",
    "'''\n",
    "\n",
    "#---------------------------------------------Forward---------------------------------------------------\n",
    "\n",
    "for j, dt in enumerate(dts): # Computing the Euler forward method to calculate the final solution for each dts\n",
    "    T = 0\n",
    "    for i in range(ns[j]):\n",
    "        y_forward_final[j] = y_forward_final[j] - dt * 3 * y_forward_final[j] + dt * 7 * np.exp(4 * T)\n",
    "        T += dt\n",
    "\n",
    "#-------------------------------------------------------------------------------------------------------\n",
    "\n",
    "#--------------------------------------------Backward---------------------------------------------------\n",
    "\n",
    "for j, dt in enumerate(dts): # Computing the Euler Backward method to calculate the final solution for each dts\n",
    "    T = 0\n",
    "    mult = 1 + 3 * dt\n",
    "    for i in range(ns[j]):\n",
    "        y_backward_final[j] = y_backward_final[j] / mult + dt * 7 * np.exp(4 * T) / mult\n",
    "        T += dt\n",
    "\n",
    "#-------------------------------------------------------------------------------------------------------\n",
    "\n",
    "'''\n",
    "Here we've computed the algorithm to find the final solution of my ODE for different size of time step for Forward and Backward Euler methods.\n",
    "To do that we use a for loop with \"in enumerate(x)\". This take one argument, a list and give back two things that we usualy call count and value. \n",
    "Before we try to understand the loop above let's look at an exemple of \"in enumerate(x)\" :\n",
    "\n",
    "---------------------------------Exemple--------------------------------------\n",
    "x = [1,2,3,4] # Create a list \n",
    "\n",
    "for count, value in enumerate(x): # Our for loop\n",
    "    print(count, value)\n",
    "\n",
    "This will give us :\n",
    "0 1\n",
    "1 2\n",
    "2 2\n",
    "3 4\n",
    "\n",
    "The first values (the column) are the 'count' values and they tell us the number of iteration in our for loop. Then the second values (the second column)\n",
    "are the 'value' values that are the value inside de list 'x'. \n",
    "So at the first iteration of our for loop : \n",
    "count = 0 because it is the first iteration (first mean 0 in python) and value = x[0] which here is 1. That is why when we print(count, value)\n",
    "we obtained 0 1.\n",
    "At the second iteration of our loop :\n",
    "count = 1 and value = x[1] = 2 \n",
    "etc\n",
    "-------------------------------------------------------------------------------\n",
    "\n",
    "Now back to our loop above. Here 'j' is 'count', 'dt' is 'value' and 'x' is 'dts'. \n",
    "So in our first iteration:\n",
    "j = 0 and dt = dts[0]\n",
    "in my second :\n",
    "j = 1 and dt = dts[1]\n",
    "etc\n",
    "\n",
    "Then inside our for loop with \"in enumerate\", we have another for loop using in range that we've already seen before.\n",
    "\n",
    "Let's try to understand the complete for loop for Euler forward (this is the same for Euler backward) :\n",
    "At the first iteration of our first for loop (the one with enumerate):\n",
    "\n",
    "j = 0 and dt = dts[0]\n",
    "T = 0\n",
    "We enter the second for loop : for i in range(ns[0])\n",
    "inside this loop we will compute Euler forward for 'i' going from 0 t 'ns[0]'\n",
    "then at the end we do : T += dt \n",
    "which is the same as : T = T + dt\n",
    "In our first iteration, it gives us : T = 0 + dts[0]\n",
    "\n",
    "end of the first iteration and begining of the second one.\n",
    "It goes until we've reached the end of the 'dts' list. \n",
    "'''"
   ]
  },
  {
   "cell_type": "code",
   "execution_count": 8,
   "metadata": {},
   "outputs": [
    {
     "data": {
      "text/plain": [
       "<matplotlib.legend.Legend at 0x7f5d8cac2320>"
      ]
     },
     "execution_count": 8,
     "metadata": {},
     "output_type": "execute_result"
    },
    {
     "data": {
      "image/png": "[encoded data removed]",
      "text/plain": [
       "<Figure size 700x600 with 1 Axes>"
      ]
     },
     "metadata": {},
     "output_type": "display_data"
    }
   ],
   "source": [
    "#Plot everything\n",
    "fig, ax = plt.subplots(1, 1, figsize=(7, 6))\n",
    "\n",
    "ax.loglog(dts, dts) # Plotting a first ord function\n",
    "ax.loglog(dts, np.abs(y_forward_final - y_exact_final), '*', label=\"Explicit Euler\") # Plotting the error for Euler Forward \n",
    "ax.loglog(dts, np.abs(y_backward_final - y_exact_final), '*', label=\"Implicit Euler\") # Plotting the error for Euler Backward\n",
    "\n",
    "'''\n",
    "To plot the error we've used .loglog to get log scale axis.\n",
    "'''\n",
    "\n",
    "ax.set_xlabel(\"dt\", fontsize=18)\n",
    "ax.set_ylabel(\"Error\", fontsize=18)\n",
    "\n",
    "ax.legend()"
   ]
  },
  {
   "cell_type": "markdown",
   "metadata": {},
   "source": [
    "### Documentation"
   ]
  },
  {
   "cell_type": "markdown",
   "metadata": {},
   "source": [
    "Scipy : https://docs.scipy.org/doc/scipy/\n",
    "\n",
    "Scipy.odeint : https://docs.scipy.org/doc/scipy/reference/generated/scipy.integrate.odeint.html\n",
    "\n",
    "np.empty : https://numpy.org/doc/stable/reference/generated/numpy.empty.html\n",
    "\n",
    "np.arange : https://numpy.org/doc/stable/reference/generated/numpy.arange.html\n",
    "\n",
    "np.ones : https://numpy.org/doc/stable/reference/generated/numpy.ones.html\n",
    "\n",
    "np.shape : https://numpy.org/doc/stable/reference/generated/numpy.shape.html\n",
    "\n",
    "Enumerate : https://www.programiz.com/python-programming/methods/built-in/enumerate\n",
    "\n",
    ".loglog : https://matplotlib.org/stable/api/_as_gen/matplotlib.pyplot.loglog.html"
   ]
  },
  {
   "cell_type": "markdown",
   "metadata": {},
   "source": [
    "## Part 2 : Runge-Kutta"
   ]
  },
  {
   "cell_type": "markdown",
   "metadata": {},
   "source": [
    "### Exo 1"
   ]
  },
  {
   "cell_type": "markdown",
   "metadata": {},
   "source": [
    "Solve the equation of the harmonic oscillator using the explicit RK4 method and show that the solution is not blowing up (choose appropriate time step).\n",
    "\n",
    "System of ODE for the case of harmonic oscillator is given by:\n",
    "\n",
    "$\\displaystyle \\frac{dx}{dt} = v$,\n",
    "\n",
    "$\\displaystyle \\frac{dv}{dt} = -\\gamma^2 x$"
   ]
  },
  {
   "cell_type": "markdown",
   "metadata": {},
   "source": [
    "***HINT:*** Given initial value problem,\n",
    "\n",
    "$\\displaystyle \\frac{du}{dt} = f(t, u),\\qquad u(0)=u_0$,\n",
    "\n",
    "**RK4 algorithm** is defined as follows:\n",
    "\n",
    "$\\displaystyle u^{n + 1} = u^n + \\frac{dt}{6} k_1 + \\frac{dt}{3} \\left( k_2 + k_3 \\right) + \\frac{dt}{6} k_4$,\n",
    "\n",
    "with\n",
    "\n",
    "$k_1 = f(t^n, u^n)$,\n",
    "\n",
    "$\\displaystyle k_2 = f(t^n + \\frac{dt}{2}, u^n + \\frac{dt}{2} k_1)$,\n",
    "\n",
    "$\\displaystyle k_3 = f(t^n + \\frac{dt}{2}, u^n + \\frac{dt}{2} k_2)$,\n",
    "\n",
    "$k_4 = f(t^n + dt, u^n + dt k_3)$."
   ]
  },
  {
   "cell_type": "code",
   "execution_count": 3,
   "metadata": {},
   "outputs": [],
   "source": [
    "#Initialise our parameters\n",
    "k = 2.0\n",
    "m = 1.0 # Setting up our constant\n",
    "gamma = np.sqrt(k / m)\n",
    "\n",
    "xi, vi = 0.75, 0.0 # Initialise our Initial conditions for x and v\n",
    "ti, tf = 0.0, 40.0 # Initialise our Initial time conditions \n",
    "dt = 0.01 # Initialise the size of our time step"
   ]
  },
  {
   "cell_type": "code",
   "execution_count": 4,
   "metadata": {},
   "outputs": [
    {
     "data": {
      "text/plain": [
       "\"\\nHere we've used python definition to create our RK4 algorithm. This function take three arguments (u, f, dt) where 'u' is our varible, 'f' our function\\nand 'dt' the size of our time step.\\nThen we return the RK4 approximation.\\nAll of those terms are describe in the course's notebooks (their form are also given above).\\nPay attention to define k1, k2, ... in the right order because inside of this 'kn' we use 'kn-1'  \\n\""
      ]
     },
     "execution_count": 4,
     "metadata": {},
     "output_type": "execute_result"
    }
   ],
   "source": [
    "#Compute RK4 algorithm\n",
    "def rk4(u, f, dt):\n",
    "    # The RHS doesn't depend on time explicitly.\n",
    "    k1 = f(u)\n",
    "    k2 = f(u + dt / 2 * k1)\n",
    "    k3 = f(u + dt / 2 * k2)\n",
    "    k4 = f(u + dt * k3)\n",
    "    \n",
    "    return u + dt / 6 * (k1 + 2 * k2 + 2 * k3 + k4)\n",
    "\n",
    "'''\n",
    "Here we've used python definition to create our RK4 algorithm. This function take three arguments (u, f, dt) where 'u' is our varible, 'f' our function\n",
    "and 'dt' the size of our time step.\n",
    "Then we return the RK4 approximation.\n",
    "All of those terms are describe in the course's notebooks (their form are also given above).\n",
    "Pay attention to define k1, k2, ... in the right order because inside of this 'kn' we use 'kn-1'  \n",
    "'''"
   ]
  },
  {
   "cell_type": "markdown",
   "metadata": {},
   "source": [
    "Quick remainder : We can write our equation as follow (see chapter 2.2. RungeKutta):\n",
    "\n",
    "\\begin{equation}\n",
    "    \\frac{d}{dt}\n",
    "    \\begin{pmatrix}\n",
    "        x \\\\\n",
    "        v\n",
    "    \\end{pmatrix}\n",
    "    =\n",
    "    \\begin{pmatrix}\n",
    "        0 & 1 \\\\\n",
    "        -\\gamma^2 & 0 \n",
    "    \\end{pmatrix}\n",
    "    \\begin{pmatrix}\n",
    "        x \\\\\n",
    "        v\n",
    "    \\end{pmatrix}\n",
    "\\end{equation}\n",
    "\n",
    "Where $L = \n",
    "\\begin{pmatrix}\n",
    "    0 & 1 \\\\\n",
    "    -\\gamma^2 & 0\n",
    "\\end{pmatrix}\n",
    "$."
   ]
  },
  {
   "cell_type": "code",
   "execution_count": 11,
   "metadata": {},
   "outputs": [
    {
     "data": {
      "text/plain": [
       "\"\\nWe've used a for loop that compute the RK4 algorithm for each time step.\\n\""
      ]
     },
     "execution_count": 11,
     "metadata": {},
     "output_type": "execute_result"
    }
   ],
   "source": [
    "#Implement the equation above\n",
    "nt = int((tf - ti) / dt) # Computing the number of time step\n",
    "t = np.arange(nt + 1) * dt # Computing a time array\n",
    "L = np.array([[0.0, 1.0], [-gamma ** 2, 0.0]]) # Computing the matrix L\n",
    "\n",
    "def RHS(u): # Computing the right hand side\n",
    "    return L @ u\n",
    "\n",
    "'''\n",
    "Here we've computed the right hand side of equation (1) above, So L * (x v). To do so I define L as a 2 by 2 numpy array then we use python definition\n",
    "to compute the right hand side (RHS). Our function RHS(u) take one argument, the variable 'u' (which, here, is the matrix (x v)) and return L @ u which is the product of two matrix.\n",
    "Note that we've used '@' and not '*'. Basically, '@' is the numpy version of '*', it is faster and better. \n",
    "remark : we can also use np.dot(x,y) that takes two arguments and multiply them together. \n",
    "'''\n",
    "\n",
    "u = np.empty((nt + 1, 2)) # Creating our containers to store the solutions\n",
    "u[0] = xi, vi # Adding the initial conditions\n",
    "\n",
    "'''\n",
    "We've created a containers to store our solutions. Note that now our containers is a matrix (nt + 1 x 2) that contains the nt + 1 solutions for 'x' and 'v'.\n",
    "Then we add our initial condition 'xi' and 'vi'\n",
    "'''\n",
    "\n",
    "for i in range(nt): # Using RK4 algortihm at each time step\n",
    "    u[i + 1] = rk4(u[i], RHS, dt)\n",
    "\n",
    "'''\n",
    "We've used a for loop that compute the RK4 algorithm for each time step.\n",
    "'''"
   ]
  },
  {
   "cell_type": "markdown",
   "metadata": {},
   "source": [
    "The exact solution of our equation is\n",
    "\\begin{equation}\n",
    "    x(t) = c_1 \\cos{\\gamma t} + c_2 \\sin{\\gamma t}\n",
    "\\end{equation}\n",
    "\n",
    "\\begin{equation}\n",
    "    v(t) = -c_1 \\gamma \\sin{\\gamma t} + c_2 \\gamma \\cos{\\gamma t}\n",
    "\\end{equation}\n",
    "\n",
    "with constants $c_1$ and $c_2$ defined by initial conditions $x_0$ and $v_0$ as follows,\n",
    "\\begin{equation}\n",
    "    c_1 = x_0, \\quad c_2 = v_0 / \\gamma\n",
    "\\end{equation}\n",
    "\n",
    "Let's implemented it"
   ]
  },
  {
   "cell_type": "code",
   "execution_count": 8,
   "metadata": {},
   "outputs": [],
   "source": [
    "# Compute the exact solution\n",
    "c1 = xi # Computing our two constante\n",
    "c2 = vi / gamma\n",
    "\n",
    "def xexact(t): #Computing exact solution for x\n",
    "    return c1 * np.cos(gamma * t) + c2 * np.sin(gamma * t)\n",
    "\n",
    "def vexact(t): #Computing exact solution for v\n",
    "    return -c1 * gamma * np.sin(gamma * t) + c2 * gamma * np.cos(t)"
   ]
  },
  {
   "cell_type": "code",
   "execution_count": 12,
   "metadata": {},
   "outputs": [
    {
     "data": {
      "text/plain": [
       "<matplotlib.legend.Legend at 0x7fb839b78f40>"
      ]
     },
     "execution_count": 12,
     "metadata": {},
     "output_type": "execute_result"
    },
    {
     "data": {
      "image/png": "[encoded data removed]",
      "text/plain": [
       "<Figure size 432x360 with 1 Axes>"
      ]
     },
     "metadata": {
      "needs_background": "light"
     },
     "output_type": "display_data"
    }
   ],
   "source": [
    "#Plot everything\n",
    "fig, ax = plt.subplots(1, figsize=(6, 5))\n",
    "\n",
    "ax.plot(t, xexact(t), label=\"x(t)\")\n",
    "ax.plot(t, vexact(t), label=\"v(t)\")\n",
    "\n",
    "ax.plot(t, u[:, 0], \"*\", label=\"Approximated x(t)\")\n",
    "ax.plot(t, u[:, 1], \"*\", label=\"Approximated v(t)\")\n",
    "\n",
    "'''\n",
    "Here y[:, 0] means that we are only taking the first column (the 'x' values) and y[:, 1] the second column (the 'v' values)\n",
    "'''\n",
    "\n",
    "ax.legend()"
   ]
  },
  {
   "cell_type": "code",
   "execution_count": 19,
   "metadata": {},
   "outputs": [
    {
     "name": "stdout",
     "output_type": "stream",
     "text": [
      "True\n"
     ]
    },
    {
     "data": {
      "text/plain": [
       "\"\\nWe've used the function np.allclose to know if our RK4 approximation of the solution is close enough from the exact solution \\n\""
      ]
     },
     "execution_count": 19,
     "metadata": {},
     "output_type": "execute_result"
    }
   ],
   "source": [
    "print(np.allclose(xexact(t), u[:, 0]))\n",
    "\n",
    "'''\n",
    "We've used the function np.allclose to know if our RK4 approximation of the solution is close enough from the exact solution \n",
    "'''"
   ]
  }
 ],
 "metadata": {
  "kernelspec": {
   "display_name": "Python 3.9.12",
   "language": "python",
   "name": "python3"
  },
  "language_info": {
   "codemirror_mode": {
    "name": "ipython",
    "version": 3
   },
   "file_extension": ".py",
   "mimetype": "text/x-python",
   "name": "python",
   "nbconvert_exporter": "python",
   "pygments_lexer": "ipython3",
   "version": "3.9.12"
  },
  "orig_nbformat": 4,
  "vscode": {
   "interpreter": {
    "hash": "6bcd652b846df85eebc1a816b6f274c2f341cc0d56a1552729a7163399fb5623"
   }
  }
 },
 "nbformat": 4,
 "nbformat_minor": 2
}
