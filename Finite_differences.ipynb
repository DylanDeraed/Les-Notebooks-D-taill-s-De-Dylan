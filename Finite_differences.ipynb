{
 "cells": [
  {
   "cell_type": "markdown",
   "metadata": {},
   "source": [
    "# Finite Differences"
   ]
  },
  {
   "cell_type": "code",
   "execution_count": 1,
   "metadata": {},
   "outputs": [
    {
     "name": "stderr",
     "output_type": "stream",
     "text": [
      "/usr/lib/python3/dist-packages/scipy/__init__.py:146: UserWarning: A NumPy version >=1.17.3 and <1.25.0 is required for this version of SciPy (detected version 1.25.1\n",
      "  warnings.warn(f\"A NumPy version >={np_minversion} and <{np_maxversion}\"\n"
     ]
    }
   ],
   "source": [
    "#Librairies\n",
    "import numpy as np # Créer des vecteurs/matrices et autres opérations\n",
    "from scipy.integrate import odeint # Pour résoudre des équations différentielles\n",
    "from scipy.sparse import diags # Créer des matrices spécifiques\n",
    "import scipy.linalg as la # Faire de l'algèbre linéaire\n",
    "import matplotlib.pyplot as plt # Pour faire des graphiques"
   ]
  },
  {
   "cell_type": "markdown",
   "metadata": {},
   "source": [
    "## Exo 1"
   ]
  },
  {
   "cell_type": "markdown",
   "metadata": {},
   "source": [
    "Solve Poisson equation,\n",
    "\n",
    "$u''(x) = 6x$,\n",
    "\n",
    "in the interval $0 \\le x \\le 1$, subject to boundary conditions,\n",
    "\n",
    "$u'(0) = 0, \\quad u(1) = 1$.\n",
    "\n",
    "Compare two implementation of the boundary conditions: one - by elimination of dependant variables and another - by replacing lines in the system of equations.\n",
    "\n",
    "Compare your approximate solution to the exact solution given by\n",
    "\n",
    "$u(x) = x^3$."
   ]
  },
  {
   "cell_type": "markdown",
   "metadata": {},
   "source": [
    "Avant de commencer la résolution détaillée, je rappel que le but de ces notebooks n'est pas d'expliquer le cours en détails, mais bien d'expliquer python.\n",
    "Pour plus d'information sur comment fonctionne la méthode des différences finies, je vous renvoie au notebook 3.01 du cours."
   ]
  },
  {
   "cell_type": "markdown",
   "metadata": {},
   "source": [
    "On commence par définir la matrice des différences finies *d2mat2nd* qui est une matrice diagonale dont les valeurs sont les coefficients des différences finies. ces coefficients dépendent de la méthode utilisé (forward, backward ou centered), de l'ordre de la dérivée et de l'ordre de la précision. les coéfficients sont donnée dans le cours (les notebooks 3.01 et 3.02) ou peuvent être trouvé ici : https://en.wikipedia.org/wiki/Finite_difference_coefficient.\n",
    "\n",
    "Dans cette exercice on utilise les différences finies centré pour une dérivée seconde avec une précision d'ordre 2, les coefficiens sont (1, -2, 1) et le stencil [-1,0,1]. Les différences finies centré pour une dérivée seconde d'ordre 2 de précision ne peuvent pas être appliqué pour les points au bord gauche et droit de l'intervalle, de ce fait on remplace la première ligne (correspondant au bord gauche) et la dernière ligne (correspondant au bord droit) par, respectivement, les coefficients des différences finies pour les dérivées secondes d'ordre 2 de précision forward et backward. Les coefficients sont, respectivement, (2, -5, 4, -1) et (-1, 4, -5, 2)."
   ]
  },
  {
   "cell_type": "code",
   "execution_count": 6,
   "metadata": {},
   "outputs": [
    {
     "data": {
      "text/plain": [
       "\"\\nPour résoudre ce problème, on a commencé par créer la fonction 'd2mat2nd' qui construit la matrice des différences finies centrées pour la dérivé\\ndu second ordre. Pour la créer, on utilise 'python definition' qui prend deux arguments en entrée (nx, dx), respectivement, le nombre de point de la\\ngrille et la distance entre deux points.\\nOn utilise la fonction 'diag' de la librairie 'Scipy'. Cette fonction demande comme entrée un vecteur et renvoie une matrice remplie de 0 avec les\\néléments de notre vecteur comme diagonal de la matrice. On peut également lui donnée d'autres entrées facultatifs comme offset qui vous donne la postion\\ndes diagonales par rapport à la diagonale principale (exemple : offset = [-1, 0, 1]; 0 correspond à la diagonal principale, -1 à la diagonale à gauche\\nde la diagonale principale, 1 celle à droite). \\n\\nRegardons un exemple d'utilisation de la fonction diag :\\n    diagonale = [[1,2,3,4], [1,2,3], [1,2]]\\n    offset = [0, -1, 2]\\n    \\n    print(diags(diagonale, offset).toarray())\\nrésultat : \\n    [[1. 0. 1. 0.]\\n     [1. 2. 0. 2.]\\n     [0. 2. 3. 0.]\\n     [0. 0. 3. 4.]]    \\n\\nOn voit que l'on retrouve une matrice avec le premier terme de 'diagonale = [1,2,3,4]' qui est en diagonale de la matrice selon le premier terme\\nde 'offset = 0' soit sur la diagonale principale. Le deuxième terme de 'diagonale = [1,2,3]' se retrouve placé par rapport au deuxième terme de \\n'offset = -1' soit à gauche de la diagonale principale. et le troisième terme de 'diagonale = [1,2]' se retrouve placé par rapport au troisième terme\\nde 'offset = 2' soit la deuxième diagonale à droite de le diagonale principale.\\n\\nEnsuite, après avoir créé la matrice des différences fini centré, On remplace la première et la dernière ligne par les différences finies à gauche et \\nà droite. Pour ce faire, on utilise python slicing qui est très bien expliqué dans le cours (notebook 3.01) et également dans la documentation ci desous.\\n\""
      ]
     },
     "execution_count": 6,
     "metadata": {},
     "output_type": "execute_result"
    }
   ],
   "source": [
    "# Création de la matrice d2mat2nd\n",
    "def d2mat2nd(nx, dx):\n",
    "    coeffs = [[1.0], [-2.0], [1.0]] # Les éléments sur la diagonale principale\n",
    "    offsets = [-1, 0, 1] # la position des diagonales par rapport la diagonale principale\n",
    "    \n",
    "    mat = diags(coeffs, offsets, shape=(nx, nx)).A / dx ** 2 # Création de la matice en utilisant diags\n",
    "    mat[0, :4] = np.array([2.0, -5.0, 4.0, -1.0]) / dx ** 2 # on remplace le bord gauche\n",
    "    mat[-1, nx - 4:] = np.array([-1.0, 4.0, -5.0, 2.0]) / dx ** 2 # on remplace le bord droit\n",
    "    \n",
    "    return mat\n",
    "\n",
    "'''\n",
    "Pour résoudre ce problème, on a commencé par créer la fonction 'd2mat2nd' qui construit la matrice des différences finies centrées pour la dérivé\n",
    "du second ordre. Pour la créer, on utilise 'python definition' qui prend deux arguments en entrée (nx, dx), respectivement, le nombre de point de la\n",
    "grille et la distance entre deux points.\n",
    "On utilise la fonction 'diag' de la librairie 'Scipy'. Cette fonction demande comme entrée un vecteur et renvoie une matrice remplie de 0 avec les\n",
    "éléments de notre vecteur comme diagonal de la matrice. On peut également lui donnée d'autres entrées facultatifs comme offset qui vous donne la postion\n",
    "des diagonales par rapport à la diagonale principale (exemple : offset = [-1, 0, 1]; 0 correspond à la diagonal principale, -1 à la diagonale à gauche\n",
    "de la diagonale principale, 1 celle à droite). \n",
    "\n",
    "Regardons un exemple d'utilisation de la fonction diag :\n",
    "    diagonale = [[1,2,3,4], [1,2,3], [1,2]]\n",
    "    offset = [0, -1, 2]\n",
    "    \n",
    "    print(diags(diagonale, offset).toarray())\n",
    "résultat : \n",
    "    [[1. 0. 1. 0.]\n",
    "     [1. 2. 0. 2.]\n",
    "     [0. 2. 3. 0.]\n",
    "     [0. 0. 3. 4.]]    \n",
    "\n",
    "On voit que l'on retrouve une matrice avec le premier terme de 'diagonale = [1,2,3,4]' qui est en diagonale de la matrice selon le premier terme\n",
    "de 'offset = 0' soit sur la diagonale principale. Le deuxième terme de 'diagonale = [1,2,3]' se retrouve placé par rapport au deuxième terme de \n",
    "'offset = -1' soit à gauche de la diagonale principale. et le troisième terme de 'diagonale = [1,2]' se retrouve placé par rapport au troisième terme\n",
    "de 'offset = 2' soit la deuxième diagonale à droite de le diagonale principale.\n",
    "\n",
    "Ensuite, après avoir créé la matrice des différences fini centré, On remplace la première et la dernière ligne par les différences finies à gauche et \n",
    "à droite. Pour ce faire, on utilise python slicing qui est très bien expliqué dans le cours (notebook 3.01) et également dans la documentation ci desous.\n",
    "'''"
   ]
  },
  {
   "cell_type": "code",
   "execution_count": 7,
   "metadata": {},
   "outputs": [],
   "source": [
    "# Création de la grille\n",
    "nx = 100 # Le nombre de point dans la grille \n",
    "x = np.linspace(0.0, 1.0, nx)\n",
    "dx = x[1] - x[0] # l'espacement entre deux points de la grille"
   ]
  },
  {
   "cell_type": "code",
   "execution_count": 8,
   "metadata": {},
   "outputs": [
    {
     "data": {
      "text/plain": [
       "\"\\nOn a commencé, ici, par déterminer la matrice de différence fini centré pour notre problème en utilisant la fonction 'd2mat2nd'\\ndéfinie ci-dessus.\\nOn l'utilise pour définir le coté droit de l'équation ('rhs') et le coté gauche ('lhs'). Remarqué que pour les deux côté, on ne\\nprend pas toute la matrice mais on utilise le slicing pour ne récupérer que la partie centrale. Pourquoi ? Car les différences\\nfini centrées ne sont pas définie au bords (voir cours pour plus d'information). \\n\\nPour résoudre notre problème, on utilise la fonction 'solve' de la librairie 'scipy.linalg' qui contient plein de fonction pour\\nrésoudre des problèmes d'algèbre linéaire. Cette fonction 'solve' effectue le calcule suivant : Inverse de lhs * rhs\\n(On pourrait également le coder comme ceci : u = la.inv(Ap) @ F; c'est un peu plus explicite).\\n\""
      ]
     },
     "execution_count": 8,
     "metadata": {},
     "output_type": "execute_result"
    }
   ],
   "source": [
    "# Implémentation de la première solution\n",
    "amat = d2mat2nd(nx, dx) # Calcule de la matrice de différence fini centré pour notre problème\n",
    "\n",
    "rhs = (6 * x - 1.0 * amat[:, -1])[1:-1] # On définie le membre de droite de notre équation\n",
    "lhs = amat[1:-1, 1:-1] # On définie le membre de gauche de notre équation\n",
    "lhs[0, :2] += np.array([4 / 3, -1 / 3]) / dx ** 2 # On inclue les conditions au bord\n",
    "\n",
    "u_1 = la.solve(lhs, rhs) # On utilise la fonction solve pour résoudre notre équation\n",
    "\n",
    "'''\n",
    "On a commencé, ici, par déterminer la matrice de différence fini centré pour notre problème en utilisant la fonction 'd2mat2nd'\n",
    "définie ci-dessus.\n",
    "On l'utilise pour définir le coté droit de l'équation ('rhs') et le coté gauche ('lhs'). Remarqué que pour les deux côté, on ne\n",
    "prend pas toute la matrice mais on utilise le slicing pour ne récupérer que la partie centrale. Pourquoi ? Car les différences\n",
    "fini centrées ne sont pas définie au bords (voir cours pour plus d'information). \n",
    "\n",
    "Pour résoudre notre problème, on utilise la fonction 'solve' de la librairie 'scipy.linalg' qui contient plein de fonction pour\n",
    "résoudre des problèmes d'algèbre linéaire. Cette fonction 'solve' effectue le calcule suivant : Inverse de lhs * rhs\n",
    "(On pourrait également le coder comme ceci : u = la.inv(Ap) @ F; c'est un peu plus explicite).\n",
    "'''"
   ]
  },
  {
   "cell_type": "code",
   "execution_count": 13,
   "metadata": {},
   "outputs": [
    {
     "data": {
      "text/plain": [
       "\"\\nTout comme au-dessus, on résoud notre problème en utilisant 'solve'.\\n\""
      ]
     },
     "execution_count": 13,
     "metadata": {},
     "output_type": "execute_result"
    }
   ],
   "source": [
    "# Implémentation de la deuxième solution\n",
    "rhs = 6*x # On définie le membre de droite de notre équation\n",
    "lhs = amat.copy() # On définie le membre de gauche de notre equation\n",
    "\n",
    "'''\n",
    "Ici, le membre de gauche est la matrice de différence fini centré pour notre problème soit celle définie ci-dessus 'amat' trouvé\n",
    "à l'aide de la fonction 'd2mat2nd'. On n'a pas simplement écrit : lhs = amat. Mais : lhs = amat.copy(). .Copy() est une fonction\n",
    "qui va copier le contenu d'une variable et la coller dans une autres. De cette manière on s'assure que lhs ne soit pas modifié par\n",
    "le code qui suit. \n",
    "'''\n",
    "\n",
    "\n",
    "\n",
    "lhs[0] = np.zeros(nx) # On remplace la première entrée de 'lhs' par la dérivée de notre fonction en x = 0  \n",
    "lhs[0,0:3] = np.asarray([-3/2, 2, -1/2]) / dx # \n",
    "rhs[0] = 0 # on remplace la première entrée de 'rhs' par 0\n",
    "\n",
    "'''\n",
    "Ici, on veut implémenter nos conditions au bords manuellement et on commence par remplacé la première entrée de 'lhs' et 'rhs' dans\n",
    "le but d'implémenter u'(x) = 0. On utilise la fonction 'np.asarray(x)' de numpy qui prend une entrée 'x' et la transforme\n",
    "en un vecteur.\n",
    "'''\n",
    "\n",
    "lhs[-1] = np.zeros(nx) # On remplace la dernière entrée de 'lhs' par 1 \n",
    "lhs[-1,-1] = 1\n",
    "rhs[-1] = 1 # on remplace la dernière entrée de 'rhs' par 1\n",
    "\n",
    "'''\n",
    "On implémente la condition u(1) = 1.\n",
    "'''\n",
    "\n",
    "u_2 = la.solve(lhs, rhs) # On résoud\n",
    "\n",
    "'''\n",
    "Tout comme au-dessus, on résoud notre problème en utilisant 'solve'.\n",
    "'''"
   ]
  },
  {
   "cell_type": "code",
   "execution_count": 15,
   "metadata": {},
   "outputs": [
    {
     "data": {
      "text/plain": [
       "<matplotlib.legend.Legend at 0x7fe6e00187f0>"
      ]
     },
     "execution_count": 15,
     "metadata": {},
     "output_type": "execute_result"
    },
    {
     "data": {
      "image/png": "[encoded data removed]",
      "text/plain": [
       "<Figure size 700x600 with 1 Axes>"
      ]
     },
     "metadata": {},
     "output_type": "display_data"
    }
   ],
   "source": [
    "# On plot tout ça\n",
    "fig, ax = plt.subplots(1, 1, figsize=(7, 6))\n",
    "\n",
    "ax.plot(x, x ** 3, label=\"Exact\")\n",
    "ax.plot(x[1:-1], u_1, \"*\", markersize=2, label=\"Solution 1\")\n",
    "ax.plot(x, u_2, \"x\", markersize=2, label=\"Solution 2\")\n",
    "\n",
    "ax.legend()"
   ]
  },
  {
   "cell_type": "markdown",
   "metadata": {},
   "source": [
    "### Documentations"
   ]
  },
  {
   "cell_type": "markdown",
   "metadata": {},
   "source": [
    "Scipy.diags : https://docs.scipy.org/doc/scipy/reference/generated/scipy.sparse.diags.html\n",
    "\n",
    "Scipy.linalg : https://docs.scipy.org/doc/scipy/reference/linalg.html\n",
    "\n",
    ".copy() : https://www.programiz.com/python-programming/methods/list/copy\n",
    "\n",
    "np.asarray : https://numpy.org/doc/stable/reference/generated/numpy.asarray.html"
   ]
  }
 ],
 "metadata": {
  "kernelspec": {
   "display_name": "Python 3.10.7",
   "language": "python",
   "name": "python3"
  },
  "language_info": {
   "codemirror_mode": {
    "name": "ipython",
    "version": 3
   },
   "file_extension": ".py",
   "mimetype": "text/x-python",
   "name": "python",
   "nbconvert_exporter": "python",
   "pygments_lexer": "ipython3",
   "version": "3.10.6"
  },
  "orig_nbformat": 4,
  "vscode": {
   "interpreter": {
    "hash": "e7370f93d1d0cde622a1f8e1c04877d8463912d04d973331ad4851f04de6915a"
   }
  }
 },
 "nbformat": 4,
 "nbformat_minor": 2
}
